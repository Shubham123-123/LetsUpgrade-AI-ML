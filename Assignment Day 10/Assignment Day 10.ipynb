{
 "cells": [
  {
   "cell_type": "code",
   "execution_count": 7,
   "metadata": {},
   "outputs": [],
   "source": [
    "import numpy as np\n",
    "import pandas as pd"
   ]
  },
  {
   "cell_type": "markdown",
   "metadata": {},
   "source": [
    "### 1: Create an element-wise comparison (greater, greater_equal, less and less_equal) of two given arrays"
   ]
  },
  {
   "cell_type": "code",
   "execution_count": 8,
   "metadata": {},
   "outputs": [
    {
     "name": "stdout",
     "output_type": "stream",
     "text": [
      "[3 5]\n",
      "[2 5]\n",
      "Greater\n",
      "[ True False]\n",
      "Greater_equal\n",
      "[ True  True]\n",
      "Less\n",
      "[False False]\n",
      "Less_equal\n",
      "[False  True]\n"
     ]
    }
   ],
   "source": [
    "x = np.array([3, 5])\n",
    "y = np.array([2, 5])\n",
    "print(x)\n",
    "print(y)\n",
    "print(\"Greater\")\n",
    "print(np.greater(x, y))\n",
    "print(\"Greater_equal\")\n",
    "print(np.greater_equal(x, y))\n",
    "print(\"Less\")\n",
    "print(np.less(x, y))\n",
    "print(\"Less_equal\")\n",
    "print(np.less_equal(x, y))\n"
   ]
  },
  {
   "cell_type": "markdown",
   "metadata": {},
   "source": [
    "### 2: Write a NumPy program to create an array of 10 zeros,10 ones, 10 fives"
   ]
  },
  {
   "cell_type": "code",
   "execution_count": 9,
   "metadata": {},
   "outputs": [
    {
     "name": "stdout",
     "output_type": "stream",
     "text": [
      "An array of 10 zeros:\n",
      "[0. 0. 0. 0. 0. 0. 0. 0. 0. 0.]\n",
      "An array of 10 ones:\n",
      "[1. 1. 1. 1. 1. 1. 1. 1. 1. 1.]\n",
      "An array of 10 fives:\n",
      "[5. 5. 5. 5. 5. 5. 5. 5. 5. 5.]\n"
     ]
    }
   ],
   "source": [
    "arr_zero=np.zeros(10)\n",
    "print(\"An array of 10 zeros:\")\n",
    "print(arr_zero)\n",
    "arr_tens=np.ones(10)\n",
    "print(\"An array of 10 ones:\")\n",
    "print(arr_tens)\n",
    "arr_five=np.ones(10)*5\n",
    "print(\"An array of 10 fives:\")\n",
    "print(arr_five)\n"
   ]
  },
  {
   "cell_type": "markdown",
   "metadata": {},
   "source": [
    "### 3:Write a NumPy program to compute sum of all elements, sum of each column and sum of each row of agiven array\n"
   ]
  },
  {
   "cell_type": "code",
   "execution_count": 10,
   "metadata": {},
   "outputs": [
    {
     "name": "stdout",
     "output_type": "stream",
     "text": [
      "Original array:\n",
      "[[1 3]\n",
      " [4 6]]\n",
      "Sum of all elements:\n",
      "14\n",
      "Sum of each column:\n",
      "[5 9]\n",
      "Sum of each row:\n",
      "[ 4 10]\n"
     ]
    }
   ],
   "source": [
    "x = np.array([[1,3],[4,6]])\n",
    "print(\"Original array:\")\n",
    "print(x)\n",
    "print(\"Sum of all elements:\")\n",
    "print(np.sum(x))\n",
    "print(\"Sum of each column:\")\n",
    "print(np.sum(x, axis=0))\n",
    "print(\"Sum of each row:\")\n",
    "print(np.sum(x, axis=1))"
   ]
  },
  {
   "cell_type": "markdown",
   "metadata": {},
   "source": [
    "### 4:Write a NumPy program to add, subtract, multiply, divide arguments element-wise"
   ]
  },
  {
   "cell_type": "code",
   "execution_count": 11,
   "metadata": {},
   "outputs": [
    {
     "name": "stdout",
     "output_type": "stream",
     "text": [
      "Add:\n",
      "5.0\n",
      "Subtract:\n",
      "-3.0\n",
      "Multiply:\n",
      "4.0\n",
      "Divide:\n",
      "0.25\n"
     ]
    }
   ],
   "source": [
    "print(\"Add:\")\n",
    "print(np.add(1.0, 4.0))\n",
    "print(\"Subtract:\")\n",
    "print(np.subtract(1.0, 4.0))\n",
    "print(\"Multiply:\")\n",
    "print(np.multiply(1.0, 4.0))\n",
    "print(\"Divide:\")\n",
    "print(np.divide(1.0, 4.0))\n"
   ]
  },
  {
   "cell_type": "markdown",
   "metadata": {},
   "source": [
    "### 5:Write a NumPy program to compute the trigonometric sine, cosine and tangent array of angles given in degree.\n"
   ]
  },
  {
   "cell_type": "code",
   "execution_count": 13,
   "metadata": {},
   "outputs": [
    {
     "name": "stdout",
     "output_type": "stream",
     "text": [
      "sine\n",
      "[0.         0.5        0.70710678 0.8660254  1.        ]\n",
      "cosine\n",
      "[1.00000000e+00 8.66025404e-01 7.07106781e-01 5.00000000e-01\n",
      " 6.12323400e-17]\n",
      "tangent\n",
      "[0.00000000e+00 5.77350269e-01 1.00000000e+00 1.73205081e+00\n",
      " 1.63312394e+16]\n"
     ]
    }
   ],
   "source": [
    "print(\"sine\")\n",
    "print(np.sin(np.array((0., 30., 45., 60., 90.)) * np.pi / 180.))\n",
    "print(\"cosine\")\n",
    "print(np.cos(np.array((0., 30., 45., 60., 90.)) * np.pi / 180.))\n",
    "print(\"tangent\")\n",
    "print(np.tan(np.array((0., 30., 45., 60., 90.)) * np.pi / 180.))\n"
   ]
  },
  {
   "cell_type": "markdown",
   "metadata": {},
   "source": [
    "### 6:Write a Pandas program to create and display a DataFrame from a specified dictionary data which has the index labels"
   ]
  },
  {
   "cell_type": "code",
   "execution_count": 18,
   "metadata": {},
   "outputs": [
    {
     "name": "stdout",
     "output_type": "stream",
     "text": [
      "      Name  Amount\n",
      "a  Shubham    1000\n",
      "b    Tejal     122\n",
      "c   Lokesh    1200\n",
      "d   Zeshan    1400\n",
      "e   Raghav    1230\n",
      "f     Alok    1345\n"
     ]
    }
   ],
   "source": [
    "bank_details  = {'Name': ['Shubham','Tejal','Lokesh','Zeshan','Raghav','Alok'],\n",
    "        'Amount': [1000,122,1200,1400,1230,1345]}\n",
    "        \n",
    "S_No = ['a', 'b', 'c', 'd', 'e', 'f']\n",
    "\n",
    "df = pd.DataFrame(bank_details , index=S_No)\n",
    "print(df)\n"
   ]
  },
  {
   "cell_type": "markdown",
   "metadata": {},
   "source": [
    "### 7:Write a Pandas program to select the 'name' and 'score' columns from the following DataFrame."
   ]
  },
  {
   "cell_type": "code",
   "execution_count": 22,
   "metadata": {},
   "outputs": [
    {
     "name": "stdout",
     "output_type": "stream",
     "text": [
      "      Name  Score\n",
      "a  Shubham    100\n",
      "b    Tejal     12\n",
      "c   Lokesh     12\n",
      "d   Zeshan     14\n",
      "e   Raghav    123\n",
      "f     Alok     15\n"
     ]
    }
   ],
   "source": [
    "cricket_data  = {'Name': ['Shubham','Tejal','Lokesh','Zeshan','Raghav','Alok'],\n",
    "                 'REsult': ['Win','Lose','Win','Lose','Win','Lose'],\n",
    "        'Score': [100,12,12,14,123,15]}\n",
    "        \n",
    "S_No = ['a', 'b', 'c', 'd', 'e', 'f']\n",
    "df = pd.DataFrame(cricket_data , index=S_No)\n",
    "print(df[['Name', 'Score']])"
   ]
  },
  {
   "cell_type": "markdown",
   "metadata": {},
   "source": [
    "### 8:Write a Pandas program to join the two given dataframes along rows and assign all data"
   ]
  },
  {
   "cell_type": "code",
   "execution_count": 25,
   "metadata": {},
   "outputs": [
    {
     "name": "stdout",
     "output_type": "stream",
     "text": [
      "      Name  Amount REsult  Score\n",
      "0  Shubham  1000.0    NaN    NaN\n",
      "1    Tejal   122.0    NaN    NaN\n",
      "2   Lokesh  1200.0    NaN    NaN\n",
      "3   Zeshan  1400.0    NaN    NaN\n",
      "4   Raghav  1230.0    NaN    NaN\n",
      "5     Alok  1345.0    NaN    NaN\n",
      "0  Shubham     NaN    Win  100.0\n",
      "1    Tejal     NaN   Lose   12.0\n",
      "2   Lokesh     NaN    Win   12.0\n",
      "3   Zeshan     NaN   Lose   14.0\n",
      "4   Raghav     NaN    Win  123.0\n",
      "5     Alok     NaN   Lose   15.0\n"
     ]
    }
   ],
   "source": [
    "bank_details  = pd.DataFrame({'Name': ['Shubham','Tejal','Lokesh','Zeshan','Raghav','Alok'],\n",
    "        'Amount': [1000,122,1200,1400,1230,1345]})\n",
    "cricket_data  = pd.DataFrame({'Name': ['Shubham','Tejal','Lokesh','Zeshan','Raghav','Alok'],\n",
    "                 'REsult': ['Win','Lose','Win','Lose','Win','Lose'],\n",
    "        'Score': [100,12,12,14,123,15]})\n",
    "result_data = pd.concat([bank_details, cricket_data])\n",
    "print(result_data)"
   ]
  },
  {
   "cell_type": "markdown",
   "metadata": {},
   "source": [
    "### 9.Write a Pandas program to detect missing values of a given DataFrame. Display True or False.\n"
   ]
  },
  {
   "cell_type": "code",
   "execution_count": 26,
   "metadata": {},
   "outputs": [
    {
     "name": "stdout",
     "output_type": "stream",
     "text": [
      "    Name  Amount  REsult  Score\n",
      "0  False   False    True   True\n",
      "1  False   False    True   True\n",
      "2  False   False    True   True\n",
      "3  False   False    True   True\n",
      "4  False   False    True   True\n",
      "5  False   False    True   True\n",
      "0  False    True   False  False\n",
      "1  False    True   False  False\n",
      "2  False    True   False  False\n",
      "3  False    True   False  False\n",
      "4  False    True   False  False\n",
      "5  False    True   False  False\n"
     ]
    }
   ],
   "source": [
    "print(result_data.isna())"
   ]
  },
  {
   "cell_type": "markdown",
   "metadata": {},
   "source": [
    "### 10.Write a Pandas program to create and display a one-dimensional array-like object containing an array of data."
   ]
  },
  {
   "cell_type": "code",
   "execution_count": 27,
   "metadata": {},
   "outputs": [
    {
     "name": "stdout",
     "output_type": "stream",
     "text": [
      "0     5\n",
      "1    10\n",
      "2    15\n",
      "3    20\n",
      "4    25\n",
      "5    30\n",
      "dtype: int64\n"
     ]
    }
   ],
   "source": [
    "ds = pd.Series([5,10,15,20,25,30])\n",
    "print(ds)"
   ]
  },
  {
   "cell_type": "code",
   "execution_count": null,
   "metadata": {},
   "outputs": [],
   "source": []
  }
 ],
 "metadata": {
  "kernelspec": {
   "display_name": "Python 3",
   "language": "python",
   "name": "python3"
  },
  "language_info": {
   "codemirror_mode": {
    "name": "ipython",
    "version": 3
   },
   "file_extension": ".py",
   "mimetype": "text/x-python",
   "name": "python",
   "nbconvert_exporter": "python",
   "pygments_lexer": "ipython3",
   "version": "3.7.6"
  }
 },
 "nbformat": 4,
 "nbformat_minor": 4
}
