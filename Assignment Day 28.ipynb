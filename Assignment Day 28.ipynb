{
 "cells": [
  {
   "cell_type": "markdown",
   "metadata": {},
   "source": [
    "## Question 1: Create one array of actual values and another array of predicted values. Compare the two sets with the confusion matrix."
   ]
  },
  {
   "cell_type": "code",
   "execution_count": 1,
   "metadata": {},
   "outputs": [],
   "source": [
    "import numpy as np\n",
    "import matplotlib.pyplot as plt\n",
    "from sklearn.metrics import accuracy_score, precision_score, recall_score, f1_score, classification_report, confusion_matrix"
   ]
  },
  {
   "cell_type": "code",
   "execution_count": 4,
   "metadata": {},
   "outputs": [
    {
     "name": "stdout",
     "output_type": "stream",
     "text": [
      "Confusion_matrix:\n",
      " [[3 3]\n",
      " [2 2]]\n",
      "\n",
      "Accuracy       : 0.5\n",
      "\n",
      "Recall(+ve)    : 0.5\n",
      "Recall(-ve)    : 0.5\n",
      "\n",
      "Precision(+ve) : 0.4\n",
      "Precision(-ve) : 0.6\n",
      "\n",
      "f1 score(+ve)  : 0.44\n",
      "f1 score(-ve)  : 0.55\n",
      "\n",
      "              precision    recall  f1-score   support\n",
      "\n",
      "           0       0.60      0.50      0.55         6\n",
      "           1       0.40      0.50      0.44         4\n",
      "\n",
      "    accuracy                           0.50        10\n",
      "   macro avg       0.50      0.50      0.49        10\n",
      "weighted avg       0.52      0.50      0.51        10\n",
      "\n"
     ]
    }
   ],
   "source": [
    "actual = [1, 0, 0, 1, 0, 1, 1, 0, 0, 0]\n",
    "\n",
    "predicted = [1, 1, 0, 0, 1, 0, 1, 0, 1, 0]\n",
    "\n",
    "print(\"Confusion_matrix:\\n\",\n",
    "      confusion_matrix(y_true=actual, y_pred=predicted, labels=[0, 1]),\n",
    "      end=\"\\n\\n\")\n",
    "\n",
    "print(\"Accuracy       :\", round(accuracy_score(y_true=actual, y_pred=predicted), 4), end=\"\\n\\n\")\n",
    "\n",
    "positive = recall_score(y_true=actual, y_pred=predicted, pos_label=1)\n",
    "negetive = recall_score(y_true=actual, y_pred=predicted, pos_label=0)\n",
    "print(\"Recall(+ve)    :\", round(positive, 2), end=\"\\n\")\n",
    "print(\"Recall(-ve)    :\", round(negetive, 2), end=\"\\n\\n\")\n",
    "\n",
    "positive1 = precision_score(y_true=actual, y_pred=predicted, pos_label=1)\n",
    "negetive1 = precision_score(y_true=actual, y_pred=predicted, pos_label=0)\n",
    "print(\"Precision(+ve) :\", round(positive1, 2), end=\"\\n\")\n",
    "print(\"Precision(-ve) :\", round(negetive1, 2), end=\"\\n\\n\")\n",
    "\n",
    "positive2 = f1_score(y_true=actual, y_pred=predicted, pos_label=1)\n",
    "negetive2 = f1_score(y_true=actual, y_pred=predicted, pos_label=0)\n",
    "print(\"f1 score(+ve)  :\", round(positive2, 2), end=\"\\n\")\n",
    "print(\"f1 score(-ve)  :\", round(negetive2, 2), end=\"\\n\\n\")\n",
    "\n",
    "print(classification_report(y_true=actual, y_pred=predicted, labels=[0, 1]))"
   ]
  },
  {
   "cell_type": "markdown",
   "metadata": {},
   "source": [
    "## Question 2: Find out the recall, precision, F1 score and confusion matrix with picture"
   ]
  },
  {
   "cell_type": "code",
   "execution_count": 6,
   "metadata": {},
   "outputs": [
    {
     "name": "stdout",
     "output_type": "stream",
     "text": [
      "Confusion Matrix:\n",
      " [[42  8]\n",
      " [18 32]]\n",
      "\n",
      "Accuracy  = 0.74\n",
      "\n",
      "Recall    = 0.7\n",
      "\n",
      "Precision = 0.84\n",
      "\n",
      "f1 score  = 0.7636\n",
      "\n"
     ]
    }
   ],
   "source": [
    "cm = np.array([[42, 8], [18, 32]])\n",
    "print(\"Confusion Matrix:\\n\", cm, end=\"\\n\\n\")\n",
    "\n",
    "# True positive\n",
    "tp = cm[0, 0]\n",
    "# True negetive\n",
    "tn = cm[1, 1]\n",
    "# False positive\n",
    "fp = cm[0, 1]\n",
    "# False negetive\n",
    "fn = cm[1, 0]\n",
    "\n",
    "acc = (tp + tn) / (tp + tn + fp + fn)\n",
    "print(\"Accuracy  =\", round(acc, 4), end=\"\\n\\n\")\n",
    "\n",
    "rc = tp / (tp + fn)\n",
    "print(\"Recall    =\", round(rc, 4), end=\"\\n\\n\")\n",
    "\n",
    "pr = tp / (tp + fp)\n",
    "print(\"Precision =\", round(pr, 4), end=\"\\n\\n\")\n",
    "\n",
    "fs = (2 * pr * rc) / (pr + rc)\n",
    "print(\"f1 score  =\", round(fs, 4), end=\"\\n\\n\")"
   ]
  },
  {
   "cell_type": "code",
   "execution_count": 7,
   "metadata": {},
   "outputs": [
    {
     "data": {
      "image/png": "[encoded data removed]",
      "text/plain": [
       "<Figure size 360x360 with 1 Axes>"
      ]
     },
     "metadata": {
      "needs_background": "light"
     },
     "output_type": "display_data"
    }
   ],
   "source": [
    "fig, ax = plt.subplots(figsize=(5, 5))\n",
    "ax.matshow(cm, cmap=plt.cm.Oranges, alpha=0.3)\n",
    "for i in range(cm.shape[0]):\n",
    "    for j in range(cm.shape[1]):\n",
    "        ax.text(x=j,\n",
    "                y=i,\n",
    "                s=cm[i, j],\n",
    "                va='center',\n",
    "                ha='center',\n",
    "                size='xx-large')\n",
    "plt.xlabel('Predictions', fontsize=18)\n",
    "plt.ylabel('Actuals', fontsize=18)\n",
    "plt.title('Confusion Matrix', fontsize=18)\n",
    "plt.show()"
   ]
  },
  {
   "cell_type": "code",
   "execution_count": null,
   "metadata": {},
   "outputs": [],
   "source": []
  }
 ],
 "metadata": {
  "kernelspec": {
   "display_name": "Python 3",
   "language": "python",
   "name": "python3"
  },
  "language_info": {
   "codemirror_mode": {
    "name": "ipython",
    "version": 3
   },
   "file_extension": ".py",
   "mimetype": "text/x-python",
   "name": "python",
   "nbconvert_exporter": "python",
   "pygments_lexer": "ipython3",
   "version": "3.7.6"
  }
 },
 "nbformat": 4,
 "nbformat_minor": 4
}
