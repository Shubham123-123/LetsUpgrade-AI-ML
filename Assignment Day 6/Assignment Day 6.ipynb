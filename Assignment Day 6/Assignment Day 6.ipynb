{
 "cells": [
  {
   "cell_type": "markdown",
   "metadata": {},
   "source": [
    "# 1. Assuming that we have some email addresses in the \"username@companyname.com\" format, please write a program to print the company name of a given email address. Both user names and company names are composed of letters only."
   ]
  },
  {
   "cell_type": "code",
   "execution_count": 1,
   "metadata": {},
   "outputs": [
    {
     "name": "stdout",
     "output_type": "stream",
     "text": [
      "Enter the email address: shubham@ignitershub.com\n",
      "Company name:  ignitershub\n"
     ]
    }
   ],
   "source": [
    "def company(c):\n",
    "    name = c.split('@')[1].split('.')[0]\n",
    "    print(\"Company name: \",name)\n",
    "    \n",
    "email_id = input(\"Enter the email address: \")\n",
    "company(email_id)"
   ]
  },
  {
   "cell_type": "markdown",
   "metadata": {},
   "source": [
    "# 2. Write a program that accepts a comma-separated sequence of words as input and prints the words in a comma separated sequence after sorting them alphabetically.\n"
   ]
  },
  {
   "cell_type": "code",
   "execution_count": 3,
   "metadata": {},
   "outputs": [
    {
     "name": "stdout",
     "output_type": "stream",
     "text": [
      "Please enter comma separated sequence of words: without,hello,bag,world\n",
      "bag,hello,without,world\n"
     ]
    }
   ],
   "source": [
    "items = input(\"Please enter comma separated sequence of words: \")\n",
    "words = [word for word in items.split(\",\")]\n",
    "print(\",\".join(sorted(list(set(words)))))\n"
   ]
  },
  {
   "cell_type": "markdown",
   "metadata": {},
   "source": [
    "# 3. Create your own Jupyter Notebook for Sets"
   ]
  },
  {
   "cell_type": "markdown",
   "metadata": {},
   "source": [
    "http://localhost:8888/notebooks/Desktop/LetsUpgrade/Assignments/Day%206/Day%206%20Ques3.%20Solution%20(sets).ipynb"
   ]
  },
  {
   "cell_type": "markdown",
   "metadata": {},
   "source": [
    "# 4. Given a list of n-1 numbers ranging from 1 to n, your task is to find the missing number. There are no duplicates."
   ]
  },
  {
   "cell_type": "code",
   "execution_count": 6,
   "metadata": {},
   "outputs": [
    {
     "name": "stdout",
     "output_type": "stream",
     "text": [
      "Enter the elements of list: 1 2 4 6 3 7 8\n",
      "Missing value is:  5\n"
     ]
    }
   ],
   "source": [
    "def find_miss(b):\n",
    "    my_list = b.split(' ') \n",
    "    my_list = [int(i) for i in my_list] \n",
    "    my_list = sorted(my_list)     \n",
    "    s1 = set(my_list)\n",
    "    s2 = {x for x in range(1, my_list[-1])}       \n",
    "    diff = s2 - s1\n",
    "    diff = list(map(str, diff))\n",
    "    print('Missing value is: ', ' '.join(diff))\n",
    "    \n",
    "enteredlist = input('Enter the elements of list: ')\n",
    "find_miss(enteredlist)"
   ]
  },
  {
   "cell_type": "markdown",
   "metadata": {},
   "source": [
    "# 5. With a given list L, write a program to print this list L after removing all duplicate values with original order reserved."
   ]
  },
  {
   "cell_type": "code",
   "execution_count": 5,
   "metadata": {},
   "outputs": [
    {
     "name": "stdout",
     "output_type": "stream",
     "text": [
      "Enter elements of a list: 12 24 35 24 88 120 155 88 120 155\n",
      "After removal  12 24 35 88 120 155\n"
     ]
    }
   ],
   "source": [
    "def delete(a):\n",
    "    my_list3 = list_entered.split(' ')\n",
    "    my_list3 = [int(x) for x in my_list3]\n",
    "    my_list3 = sorted(set(my_list3))\n",
    "    my_list3 = list(map(str, my_list3))\n",
    "    print(\"After removal \",' '.join(my_list3))\n",
    "    \n",
    "list_entered = input('Enter elements of a list: ')\n",
    "delete(list_entered)"
   ]
  },
  {
   "cell_type": "code",
   "execution_count": null,
   "metadata": {},
   "outputs": [],
   "source": []
  }
 ],
 "metadata": {
  "kernelspec": {
   "display_name": "Python 3",
   "language": "python",
   "name": "python3"
  },
  "language_info": {
   "codemirror_mode": {
    "name": "ipython",
    "version": 3
   },
   "file_extension": ".py",
   "mimetype": "text/x-python",
   "name": "python",
   "nbconvert_exporter": "python",
   "pygments_lexer": "ipython3",
   "version": "3.7.6"
  }
 },
 "nbformat": 4,
 "nbformat_minor": 4
}
