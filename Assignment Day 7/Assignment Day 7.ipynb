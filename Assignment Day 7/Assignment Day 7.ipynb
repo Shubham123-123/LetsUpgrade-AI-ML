{
 "cells": [
  {
   "cell_type": "markdown",
   "metadata": {},
   "source": [
    "# 1: Write a program to copy the contents of one file to another using a for loop. (Don’t use built-in copy function)"
   ]
  },
  {
   "cell_type": "code",
   "execution_count": 5,
   "metadata": {},
   "outputs": [
    {
     "name": "stdout",
     "output_type": "stream",
     "text": [
      "Apple\n",
      "Banana\n",
      "Mango\n",
      "Papaya\n"
     ]
    }
   ],
   "source": [
    "fn = open('file1.txt', 'r') \n",
    "fn1 = open('file2.txt', 'w') \n",
    "cont = fn.readlines() \n",
    "type(cont) \n",
    "for i in range(0, len(cont)):    \n",
    "        fn1.write(cont[i]) \n",
    "fn1.close() \n",
    "fn1 = open('file2.txt', 'r') \n",
    "cont1 = fn1.read() \n",
    "print(cont1) \n",
    "fn.close() \n",
    "fn1.close() "
   ]
  },
  {
   "cell_type": "markdown",
   "metadata": {},
   "source": [
    "# 2: Write a Python program to find maximum and minimum values in the dictionary. Do not use built-in min and max functions."
   ]
  },
  {
   "cell_type": "code",
   "execution_count": 3,
   "metadata": {},
   "outputs": [
    {
     "name": "stdout",
     "output_type": "stream",
     "text": [
      "Our dictionary is : {'Hindi': 3, 'English': 2, 'Maths': 1, 'Science': 5}\n",
      "Keys with minimum values are : ['Maths']\n",
      "Keys with maximum values are : ['Science']\n"
     ]
    }
   ],
   "source": [
    "my_dict = {'Hindi' : 3, 'English' : 2, 'Maths' : 1, 'Science' : 5} \n",
    "print(\"Our dictionary is : \" + str(my_dict)) \n",
    " \n",
    "result_min = [key for key in my_dict if\n",
    "        all(my_dict[temp] >= my_dict[key]\n",
    "        for temp in my_dict)] \n",
    "\n",
    "result_max = [key for key in my_dict if\n",
    "        all(my_dict[temp] <= my_dict[key] \n",
    "        for temp in my_dict)] \n",
    " \n",
    "print(\"Keys with minimum values are : \" + str(result_min)) \n",
    "print(\"Keys with maximum values are : \" + str(result_max))\n"
   ]
  },
  {
   "cell_type": "code",
   "execution_count": null,
   "metadata": {},
   "outputs": [],
   "source": []
  }
 ],
 "metadata": {
  "kernelspec": {
   "display_name": "Python 3",
   "language": "python",
   "name": "python3"
  },
  "language_info": {
   "codemirror_mode": {
    "name": "ipython",
    "version": 3
   },
   "file_extension": ".py",
   "mimetype": "text/x-python",
   "name": "python",
   "nbconvert_exporter": "python",
   "pygments_lexer": "ipython3",
   "version": "3.7.6"
  }
 },
 "nbformat": 4,
 "nbformat_minor": 4
}
