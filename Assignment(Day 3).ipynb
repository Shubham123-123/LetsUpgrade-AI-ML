{
 "cells": [
  {
   "cell_type": "markdown",
   "metadata": {},
   "source": [
    "# 1.Write a program to subtract two complex numbers in Python."
   ]
  },
  {
   "cell_type": "code",
   "execution_count": 10,
   "metadata": {},
   "outputs": [
    {
     "name": "stdout",
     "output_type": "stream",
     "text": [
      "Subtraction is = (3+6j)\n"
     ]
    }
   ],
   "source": [
    "cn = 8 + 7j\n",
    "cn1 = 5 + 1j\n",
    "print('Subtraction is =', cn - cn1)"
   ]
  },
  {
   "cell_type": "markdown",
   "metadata": {},
   "source": [
    "# 2.Write a program to find the fourth root of a number."
   ]
  },
  {
   "cell_type": "code",
   "execution_count": 11,
   "metadata": {},
   "outputs": [
    {
     "name": "stdout",
     "output_type": "stream",
     "text": [
      "20736\n"
     ]
    }
   ],
   "source": [
    "a = 12\n",
    "b = 4\n",
    "c = 12**4\n",
    "print(c)"
   ]
  },
  {
   "cell_type": "markdown",
   "metadata": {},
   "source": [
    "# 3.Write a program to swap two numbers in Python with the help of a temporary variable."
   ]
  },
  {
   "cell_type": "code",
   "execution_count": 12,
   "metadata": {},
   "outputs": [
    {
     "name": "stdout",
     "output_type": "stream",
     "text": [
      "x is = 10\n",
      "y is = 5\n"
     ]
    }
   ],
   "source": [
    "x = 5\n",
    "y = 10\n",
    "\n",
    "temp = x\n",
    "x = y\n",
    "y = temp\n",
    "\n",
    "print('x is =',x)\n",
    "print('y is =',y)"
   ]
  },
  {
   "cell_type": "markdown",
   "metadata": {},
   "source": [
    "# 4.Write a program to swap two numbers in Python without using a temporary variable."
   ]
  },
  {
   "cell_type": "code",
   "execution_count": 13,
   "metadata": {},
   "outputs": [
    {
     "name": "stdout",
     "output_type": "stream",
     "text": [
      "x is = 10\n",
      "y is = 5\n"
     ]
    }
   ],
   "source": [
    "x = 5\n",
    "y = 10\n",
    "\n",
    "x, y = y, x\n",
    "print(\"x is =\", x)\n",
    "print(\"y is =\", y)"
   ]
  },
  {
   "cell_type": "markdown",
   "metadata": {},
   "source": [
    "# 5.Write a program to convert Fahrenheit to kelvin and celsius both."
   ]
  },
  {
   "cell_type": "code",
   "execution_count": 15,
   "metadata": {},
   "outputs": [
    {
     "name": "stdout",
     "output_type": "stream",
     "text": [
      "38.00 Fahrenheit is: 3.33 Celsius\n",
      "38.00 Fahrenheit is: 276.83 Kelvin\n"
     ]
    }
   ],
   "source": [
    "fahrenheit = 38\n",
    "celsius = (fahrenheit - 32) * 5/9\n",
    "Kelvin = 273.5 + ((fahrenheit - 32.0) * (5.0/9.0))\n",
    "print('%.2f Fahrenheit is: %0.2f Celsius' %(fahrenheit, celsius))\n",
    "print('%.2f Fahrenheit is: %0.2f Kelvin' %(fahrenheit, Kelvin))"
   ]
  },
  {
   "cell_type": "markdown",
   "metadata": {},
   "source": [
    "# 6.Write a program to demonstrate all the available data types in Python."
   ]
  },
  {
   "cell_type": "code",
   "execution_count": 19,
   "metadata": {},
   "outputs": [
    {
     "name": "stdout",
     "output_type": "stream",
     "text": [
      "5 is of type <class 'int'>\n",
      "2.0 is of type <class 'int'>\n",
      "(1+2j) is of type <class 'complex'>\n",
      "Cat is of type <class 'str'>\n"
     ]
    }
   ],
   "source": [
    "a = 5\n",
    "print(a, \"is of type\", type(a))\n",
    "\n",
    "b = 2.0\n",
    "print(b, \"is of type\", type(a))\n",
    "\n",
    "c = 1+2j\n",
    "print(c, \"is of type\", type(c))\n",
    "\n",
    "d = \"Cat\"\n",
    "print(d, \"is of type\", type(d))"
   ]
  },
  {
   "cell_type": "markdown",
   "metadata": {},
   "source": [
    "# 7.Create a Markdown cell in Jupyter and list the steps discussed in the session by Dr. Darshan Ingle sir to create a Github profile and upload the Githubs Assignment link."
   ]
  },
  {
   "cell_type": "markdown",
   "metadata": {},
   "source": [
    "1. Create a github account by signup in github and filling proper details.\n",
    "2. Create a Github public repository and name it LetsUpgrade AI/ML.\n",
    "3. Copy the URL of the Folder of that day and paste in the Assignment Submission Form."
   ]
  },
  {
   "cell_type": "code",
   "execution_count": null,
   "metadata": {},
   "outputs": [],
   "source": []
  }
 ],
 "metadata": {
  "kernelspec": {
   "display_name": "Python 3",
   "language": "python",
   "name": "python3"
  },
  "language_info": {
   "codemirror_mode": {
    "name": "ipython",
    "version": 3
   },
   "file_extension": ".py",
   "mimetype": "text/x-python",
   "name": "python",
   "nbconvert_exporter": "python",
   "pygments_lexer": "ipython3",
   "version": "3.7.6"
  }
 },
 "nbformat": 4,
 "nbformat_minor": 4
}
