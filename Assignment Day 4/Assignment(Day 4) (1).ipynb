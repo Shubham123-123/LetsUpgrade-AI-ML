{
 "cells": [
  {
   "cell_type": "markdown",
   "metadata": {},
   "source": [
    "#  1.Operations on Complex Number"
   ]
  },
  {
   "cell_type": "code",
   "execution_count": 1,
   "metadata": {},
   "outputs": [
    {
     "name": "stdout",
     "output_type": "stream",
     "text": [
      "Enter the first Complex Number: 1+2j\n",
      "Enter the second Complex Number: 3+1j\n",
      "\n",
      "The result after Addition  (4+3j)\n",
      "The result after Substraction  (-2+1j)\n",
      "The result after Multiplication  (1+7j)\n",
      "The result after Division  (0.49999999999999994+0.5j)\n"
     ]
    }
   ],
   "source": [
    "n1 = complex(input(\"Enter the first Complex Number: \"))\n",
    "n2 = complex(input(\"Enter the second Complex Number: \"))\n",
    "\n",
    "add = n1 + n2\n",
    "sub = n1 - n2\n",
    "mul = n1 * n2  \n",
    "div = n1 / n2\n",
    "\n",
    "print(\"The result after Addition \", add)\n",
    "print(\"The result after Substraction \", sub)\n",
    "print(\"The result after Multiplication \", mul)\n",
    "print(\"The result after Division \", div)"
   ]
  },
  {
   "cell_type": "markdown",
   "metadata": {},
   "source": [
    "# 2.Research on range() functions and its parameters. Create a markdown cell and write in your own words(no copy-paste from google please) what you understand about it. Implement a small program of your choice on the same."
   ]
  },
  {
   "cell_type": "markdown",
   "metadata": {},
   "source": [
    "range(start, stop, Step)\n",
    "\n",
    "It is inbuilt python Function and requires 3 parameters : Start, Stop, Step\n",
    "\n",
    "Start parameter is used to give the start value of range and it is optional as if you dont give start value it will start from 0.\n",
    "Stop parameter is used to give the last value of range which is excluded it means it will start from 0 but donot have any end value where to end.\n",
    "Step parameter means that by what value you want your loop to increment for example : range(1,10,2): the loop starts from 1 and goes to 9."
   ]
  },
  {
   "cell_type": "code",
   "execution_count": 2,
   "metadata": {},
   "outputs": [
    {
     "name": "stdout",
     "output_type": "stream",
     "text": [
      "1\n",
      "3\n",
      "5\n",
      "7\n",
      "9\n"
     ]
    }
   ],
   "source": [
    "for i in range(1,10,2):\n",
    "    print(i)"
   ]
  },
  {
   "cell_type": "markdown",
   "metadata": {},
   "source": [
    "# 3. Consider two numbers. Perform their subtraction and if the result of subtraction is greater than 25, print their multiplication result else print their division result."
   ]
  },
  {
   "cell_type": "code",
   "execution_count": 5,
   "metadata": {},
   "outputs": [
    {
     "name": "stdout",
     "output_type": "stream",
     "text": [
      "Enter first Number: 23\n",
      "Enter second Number: 12\n",
      "Division result when result of their substraction is less than 25 is 1.9166666666666667\n"
     ]
    }
   ],
   "source": [
    "n1 = int(input(\"Enter first Number: \"))\n",
    "n2 = int(input(\"Enter second Number: \"))\n",
    "\n",
    "result = n1 - n2 \n",
    "if result > 25:\n",
    "    print(\"Multiplication result when result of their substraction is greater than 25 is \",n1 * n2)\n",
    "else:\n",
    "    print(\"Division result when result of their substraction is less than 25 is\",n1 / n2)"
   ]
  },
  {
   "cell_type": "code",
   "execution_count": 6,
   "metadata": {},
   "outputs": [
    {
     "name": "stdout",
     "output_type": "stream",
     "text": [
      "Enter first Number: 50\n",
      "Enter second Number: 14\n",
      "Multiplication result when result of their substraction is greater than 25 is 700\n"
     ]
    }
   ],
   "source": [
    "n1 = int(input(\"Enter first Number: \"))\n",
    "n2 = int(input(\"Enter second Number: \"))\n",
    "\n",
    "result = n1 - n2 \n",
    "if result > 25:\n",
    "    print(\"Multiplication result when result of their substraction is greater than 25 is\",n1 * n2)\n",
    "else:\n",
    "    print(\"Division result when result of their substraction is less than 25 is\",n1 / n2)"
   ]
  },
  {
   "cell_type": "markdown",
   "metadata": {},
   "source": [
    "# 4. Consider a list of 10 elements of integer values. If the number in the list is divisible by 2, print the result as \"square of that number minus 2\"."
   ]
  },
  {
   "cell_type": "code",
   "execution_count": 10,
   "metadata": {},
   "outputs": [
    {
     "name": "stdout",
     "output_type": "stream",
     "text": [
      "Square of number minus 2 when it is divisible by 2:\n",
      "194\n",
      "3134\n",
      "6082\n",
      "1154\n"
     ]
    }
   ],
   "source": [
    "my_list = [14,45,56,78,34,25,67]\n",
    "\n",
    "print(\"Square of number minus 2 when it is divisible by 2:\")\n",
    "for i in my_list:\n",
    "    if i%2 == 0 :\n",
    "        print((i**2) - 2)"
   ]
  },
  {
   "cell_type": "markdown",
   "metadata": {},
   "source": [
    "# 5. Consider a list of 10 elements. Print all the elements in the list which are greater than 7 when that number is divided 2."
   ]
  },
  {
   "cell_type": "code",
   "execution_count": 15,
   "metadata": {},
   "outputs": [
    {
     "name": "stdout",
     "output_type": "stream",
     "text": [
      "Number greater than 7 when divided by 2:\n",
      "45\n",
      "56\n",
      "78\n",
      "34\n",
      "25\n",
      "67\n"
     ]
    }
   ],
   "source": [
    "my_list2 = [8,14,45,7,3,56,78,34,25,67]\n",
    "\n",
    "print(\"Number greater than 7 when divided by 2:\")\n",
    "for i in my_list2:\n",
    "    j=i/2\n",
    "    if j >7:\n",
    "        print(i)"
   ]
  },
  {
   "cell_type": "code",
   "execution_count": null,
   "metadata": {},
   "outputs": [],
   "source": []
  }
 ],
 "metadata": {
  "kernelspec": {
   "display_name": "Python 3",
   "language": "python",
   "name": "python3"
  },
  "language_info": {
   "codemirror_mode": {
    "name": "ipython",
    "version": 3
   },
   "file_extension": ".py",
   "mimetype": "text/x-python",
   "name": "python",
   "nbconvert_exporter": "python",
   "pygments_lexer": "ipython3",
   "version": "3.7.6"
  }
 },
 "nbformat": 4,
 "nbformat_minor": 4
}
