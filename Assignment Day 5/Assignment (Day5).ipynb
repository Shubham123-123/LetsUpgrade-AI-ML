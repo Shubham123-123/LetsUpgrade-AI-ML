{
 "cells": [
  {
   "cell_type": "markdown",
   "metadata": {},
   "source": [
    "# 1:  Python program to find the first 20 non-even prime natural numbers."
   ]
  },
  {
   "cell_type": "code",
   "execution_count": 1,
   "metadata": {},
   "outputs": [
    {
     "name": "stdout",
     "output_type": "stream",
     "text": [
      "3\n",
      "5\n",
      "7\n",
      "11\n",
      "13\n",
      "17\n",
      "19\n",
      "23\n",
      "29\n",
      "31\n",
      "37\n",
      "41\n",
      "43\n",
      "47\n",
      "53\n",
      "59\n",
      "61\n",
      "67\n",
      "71\n",
      "73\n"
     ]
    }
   ],
   "source": [
    "for n in range(3, 75):\n",
    "    for i in range(2, n):\n",
    "        if (n % i) == 0:\n",
    "            break\n",
    "    else:\n",
    "        print(n)"
   ]
  },
  {
   "cell_type": "markdown",
   "metadata": {},
   "source": [
    "# 2. Implement 15 string Functions"
   ]
  },
  {
   "cell_type": "code",
   "execution_count": 2,
   "metadata": {},
   "outputs": [
    {
     "name": "stdout",
     "output_type": "stream",
     "text": [
      "Our String is LetsUpgrade Tutorials \n",
      "LETSUPGRADE TUTORIALS \n",
      "letsupgrade tutorials \n",
      "Letstpgrade Tutorials \n",
      "LetsUpgrade Tutorials\n",
      "LetsUpgrade Tutorials \n",
      "LetsUpgrade Tutorials\n",
      "False\n",
      "['LetsUpgrade', 'Tutorials']\n",
      "False\n",
      "lETSuPGRADE tUTORIALS \n",
      "2\n",
      "5\n",
      "False\n",
      "False\n",
      "-1\n"
     ]
    }
   ],
   "source": [
    "string1 = \"LetsUpgrade Tutorials \"\n",
    "print(\"Our String is\", string1)\n",
    "print(string1.upper())\n",
    "print(string1.lower())\n",
    "print(string1.replace('U','t'))\n",
    "print(string1.rstrip())\n",
    "print(string1.lstrip())\n",
    "print(string1.strip())\n",
    "print(string1.endswith('l '))\n",
    "print(string1.split()) \n",
    "print(string1.startswith(' L'))\n",
    "print(string1.swapcase())\n",
    "print(string1.count('a'))\n",
    "print(string1.index('p'))\n",
    "print(string1.isdigit())\n",
    "print(string1.isalpha())\n",
    "print(string1.find('f'))\n"
   ]
  },
  {
   "cell_type": "markdown",
   "metadata": {},
   "source": [
    "# 3. Check given String is Palindrome or Anagram or none of them ?"
   ]
  },
  {
   "cell_type": "code",
   "execution_count": 3,
   "metadata": {},
   "outputs": [
    {
     "name": "stdout",
     "output_type": "stream",
     "text": [
      "Enter a string Shubham\n",
      "Enter Second String for checking Anagram : hSubham\n",
      "Entered Strings is an Anagram \n"
     ]
    }
   ],
   "source": [
    "string = input('Enter a string ')\n",
    "rev = string[::-1]\n",
    "if rev == string:\n",
    "    print(\"Entered String is a Palindrome \")\n",
    "elif rev != string:\n",
    "    string2 = input('Enter Second String for checking Anagram : ')\n",
    "    \n",
    "    list_str1 = list(string)\n",
    "    list_str1.sort()\n",
    "    list_str2 = list(string2)\n",
    "    list_str2.sort()\n",
    "    if list_str1 == list_str2:\n",
    "        print(\"Entered Strings is an Anagram \")\n",
    "else:\n",
    "    print(\"Entered string is None of these \")"
   ]
  },
  {
   "cell_type": "code",
   "execution_count": 6,
   "metadata": {},
   "outputs": [
    {
     "name": "stdout",
     "output_type": "stream",
     "text": [
      "Enter a string arora\n",
      "Entered String is a Palindrome \n"
     ]
    }
   ],
   "source": [
    "string = input('Enter a string ')\n",
    "rev = string[::-1]\n",
    "if rev == string:\n",
    "    print(\"Entered String is a Palindrome \")\n",
    "elif rev != string:\n",
    "    string2 = input('Enter Second String for checking Anagram : ')\n",
    "    \n",
    "    list_str1 = list(string)\n",
    "    list_str1.sort()\n",
    "    list_str2 = list(string2)\n",
    "    list_str2.sort()\n",
    "    if list_str1 == list_str2:\n",
    "        print(\"Entered Strings is an Anagram \")        \n",
    "else:\n",
    "    print(\"Entered string is None of these \")"
   ]
  },
  {
   "cell_type": "markdown",
   "metadata": {},
   "source": [
    "# 4. Build a User-defined function to remove all the Special Characters from string"
   ]
  },
  {
   "cell_type": "code",
   "execution_count": 2,
   "metadata": {},
   "outputs": [
    {
     "name": "stdout",
     "output_type": "stream",
     "text": [
      "String is : Dr. Darshan Ingle @AIML Trainer\n",
      "Now our string is:  drdarshaningleaimltrainer\n"
     ]
    }
   ],
   "source": [
    "def remove_char(a):\n",
    "    special_char = ['!','@',\"#\",\"$\",'%','^','&','*','(',')','+','_','?','.',':','-',\" \"]\n",
    "    for i in special_char : \n",
    "        a = a.replace(i,'')\n",
    "        a = a.lower()\n",
    "    \n",
    "    print(\"Now our string is: \",a)    \n",
    "string3 = \"Dr. Darshan Ingle @AIML Trainer\"\n",
    "print(\"String is :\", string3)\n",
    "remove_char(string3)    "
   ]
  },
  {
   "cell_type": "code",
   "execution_count": null,
   "metadata": {},
   "outputs": [],
   "source": []
  }
 ],
 "metadata": {
  "kernelspec": {
   "display_name": "Python 3",
   "language": "python",
   "name": "python3"
  },
  "language_info": {
   "codemirror_mode": {
    "name": "ipython",
    "version": 3
   },
   "file_extension": ".py",
   "mimetype": "text/x-python",
   "name": "python",
   "nbconvert_exporter": "python",
   "pygments_lexer": "ipython3",
   "version": "3.7.6"
  }
 },
 "nbformat": 4,
 "nbformat_minor": 4
}
